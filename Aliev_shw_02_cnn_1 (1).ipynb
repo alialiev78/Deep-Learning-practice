{
  "cells": [
    {
      "cell_type": "markdown",
      "metadata": {
        "id": "w35Q6hOIy4sk",
        "pycharm": {
          "name": "#%% md\n"
        }
      },
      "source": [
        "# Глубинное обучение 1 / Введение в глубинное обучение, ФКН ВШЭ\n",
        "\n",
        "## Домашнее задание 2: сверточный классификатор.\n",
        "\n",
        "### Общая информация\n",
        "\n",
        "Оценка после штрафа после мягкого дедлайна вычисляется по формуле $M_{\\text{penalty}} = M_{\\text{full}} \\cdot 0.85^{t/1440}$, где $M_{\\text{full}}$ — полная оценка за работу без учета штрафа, а $t$ — время в минутах, прошедшее после мягкого дедлайна (округление до двух цифр после запятой). Таким образом, спустя первые сутки после мягкого дедлайна вы не можете получить оценку выше 8.5, а если сдать через четыре дня после мягкого дедлайна, то ваш максимум — 5.22 балла.\n",
        "\n",
        "### Оценивание и штрафы\n",
        "\n",
        "Максимально допустимая оценка за работу — 10 баллов. Сдавать задание после указанного срока сдачи нельзя.\n",
        "\n",
        "Задание выполняется самостоятельно. «Похожие» решения считаются плагиатом и все задействованные студенты (в том числе те, у кого списали) не могут получить за него больше 0 баллов. Если вы нашли решение какого-то из заданий (или его часть) в открытом источнике, необходимо указать ссылку на этот источник в отдельном блоке в конце вашей работы (скорее всего вы будете не единственным, кто это нашел, поэтому чтобы исключить подозрение в плагиате, необходима ссылка на источник).\n",
        "\n",
        "Неэффективная реализация кода может негативно отразиться на оценке. Также оценка может быть снижена за плохо читаемый код и плохо оформленные графики. Все ответы должны сопровождаться кодом или комментариями о том, как они были получены.\n",
        "\n",
        "### О задании\n",
        "\n",
        "В этом задании вам предстоит познакомиться со сверточными сетями и их обучением для классификации изображений с использованием библиотеки PyTorch.\n"
      ]
    },
    {
      "cell_type": "code",
      "execution_count": 2,
      "metadata": {
        "id": "SaACifdX2QOo",
        "pycharm": {
          "name": "#%%\n"
        }
      },
      "outputs": [],
      "source": [
        "import torch\n",
        "import torch.nn as nn\n",
        "import torch.nn.functional as F\n",
        "import torch.optim as optim\n",
        "import torchvision\n",
        "import torchvision.transforms as transforms\n",
        "\n",
        "import matplotlib.pyplot as plt\n",
        "import numpy as np\n",
        "\n",
        "from sklearn.model_selection import train_test_split"
      ]
    },
    {
      "cell_type": "markdown",
      "metadata": {
        "id": "TIXaUYM-0JFl",
        "pycharm": {
          "name": "#%% md\n"
        }
      },
      "source": [
        "## 0. Загрузка данных\n",
        "\n",
        "Работать мы будем с набором данных [CIFAR10](https://www.cs.toronto.edu/~kriz/cifar.html). CIFAR10 представляет собой набор изображений 32х32 пикселя, разделенных на 10 классов.\n",
        "\n",
        "![title](https://pytorch.org/tutorials/_images/cifar10.png)\n",
        "\n",
        "\n"
      ]
    },
    {
      "cell_type": "markdown",
      "metadata": {
        "id": "g-0EEjl_10vB",
        "pycharm": {
          "name": "#%% md\n"
        }
      },
      "source": [
        "Набор данных уже определен в <code>torchvision.datasets</code>, так что возьмем его оттуда.\n",
        "\n"
      ]
    },
    {
      "cell_type": "code",
      "execution_count": 3,
      "metadata": {
        "id": "Cbwe92dT3aPZ",
        "pycharm": {
          "name": "#%%\n"
        }
      },
      "outputs": [],
      "source": [
        "def get_cifar10_data(batch_size, transform_train):\n",
        "    torch.manual_seed(0)\n",
        "    np.random.seed(0)\n",
        "\n",
        "    transform_test = transforms.Compose(\n",
        "        [transforms.ToTensor(),\n",
        "         # Переводим цвета пикселей в отрезок [-1, 1]\n",
        "         transforms.Normalize((0.5, 0.5, 0.5), (0.5, 0.5, 0.5))]\n",
        "    )\n",
        "\n",
        "    # Загружаем данные\n",
        "    trainvalset = torchvision.datasets.CIFAR10(root='./data', train=True,\n",
        "                                               download=True, transform=transform_train)\n",
        "    testset = torchvision.datasets.CIFAR10(root='./data', train=False,\n",
        "                                           download=True, transform=transform_test)\n",
        "\n",
        "    # В датасете определено разбиение только на train и test,\n",
        "    # так что валидацию дополнительно выделяем из обучающей выборки\n",
        "    train_idx, valid_idx = train_test_split(np.arange(len(trainvalset)), test_size=0.3,\n",
        "                                            shuffle=True, random_state=0)\n",
        "    trainset = torch.utils.data.Subset(trainvalset, train_idx)\n",
        "    valset = torch.utils.data.Subset(trainvalset, valid_idx)\n",
        "\n",
        "    train_loader = torch.utils.data.DataLoader(trainset, batch_size=batch_size,\n",
        "                                               shuffle=True, num_workers=2)\n",
        "    val_loader = torch.utils.data.DataLoader(valset, batch_size=batch_size,\n",
        "                                             shuffle=False, num_workers=2)\n",
        "    test_loader = torch.utils.data.DataLoader(testset, batch_size=batch_size,\n",
        "                                              shuffle=False, num_workers=2)\n",
        "\n",
        "    return train_loader, val_loader, test_loader\n"
      ]
    },
    {
      "cell_type": "code",
      "execution_count": 4,
      "metadata": {
        "colab": {
          "base_uri": "https://localhost:8080/"
        },
        "id": "2G2rLnN5y6Jj",
        "outputId": "24bcf31e-8461-4815-f5d7-017ac9ccedc5",
        "pycharm": {
          "name": "#%%\n"
        }
      },
      "outputs": [
        {
          "output_type": "stream",
          "name": "stdout",
          "text": [
            "Files already downloaded and verified\n",
            "Files already downloaded and verified\n"
          ]
        }
      ],
      "source": [
        "transform = transforms.Compose(\n",
        "        [transforms.ToTensor(),\n",
        "         transforms.Normalize((0.5, 0.5, 0.5), (0.5, 0.5, 0.5))]\n",
        ")\n",
        "\n",
        "train_loader, val_loader, test_loader = get_cifar10_data(batch_size=64,\n",
        "                                                         transform_train=transform)"
      ]
    },
    {
      "cell_type": "markdown",
      "metadata": {
        "id": "-82HWgXs77W1",
        "pycharm": {
          "name": "#%% md\n"
        }
      },
      "source": [
        "Посмотрим на изображения:"
      ]
    },
    {
      "cell_type": "code",
      "execution_count": 5,
      "metadata": {
        "colab": {
          "base_uri": "https://localhost:8080/",
          "height": 210
        },
        "id": "ACnwaC5iy6L2",
        "outputId": "2cd318fa-8a1e-45e3-b827-411e09099ace",
        "pycharm": {
          "name": "#%%\n"
        }
      },
      "outputs": [
        {
          "output_type": "display_data",
          "data": {
            "text/plain": [
              "<Figure size 640x480 with 1 Axes>"
            ],
            "image/png": "[encoded data removed]"
          },
          "metadata": {}
        },
        {
          "output_type": "stream",
          "name": "stdout",
          "text": [
            "ship frog horse horse\n"
          ]
        }
      ],
      "source": [
        "def imshow(img):\n",
        "    img = img / 2 + 0.5\n",
        "    npimg = img.numpy()\n",
        "    plt.imshow(np.transpose(npimg, (1, 2, 0)))\n",
        "    plt.show()\n",
        "\n",
        "\n",
        "dataiter = iter(train_loader)\n",
        "# print(dataiter)\n",
        "images, labels = next(dataiter)\n",
        "\n",
        "imshow(torchvision.utils.make_grid(images[:4]))\n",
        "\n",
        "classes = ('plane', 'car', 'bird', 'cat',\n",
        "           'deer', 'dog', 'frog', 'horse', 'ship', 'truck')\n",
        "print(*[classes[labels[i]] for i in range(4)])"
      ]
    },
    {
      "cell_type": "markdown",
      "metadata": {
        "id": "KFDilng29YZ_",
        "pycharm": {
          "name": "#%% md\n"
        }
      },
      "source": [
        "## 1. Задание сверточной сети (3 балла)"
      ]
    },
    {
      "cell_type": "markdown",
      "metadata": {
        "id": "OX7Ul8YbYdQR",
        "pycharm": {
          "name": "#%% md\n"
        }
      },
      "source": [
        "Теперь нам нужно задать сверточную нейронную сеть, которую мы будем обучать классифицировать изображения.\n",
        "\n",
        "Используем сеть, основанную на одном блоке архитектуры ResNet.\n",
        "\n",
        "<img src=\"https://i.ibb.co/2hg962h/basic-block.png\" width=\"500\"/>\n",
        "\n",
        "__Указания:__\n",
        "\n",
        "- Все сверточные слои должны иметь 32 выходных канала, а также не должны изменять ширину и высоту изображения.\n",
        "- Выход блока сократите до размерности 32х4х4, применив average pooling.\n",
        "- Для получения итоговых логитов, распрямите выход пулинга в вектор из 512 элементов, а затем пропустите его через линейный слой."
      ]
    },
    {
      "cell_type": "markdown",
      "metadata": {
        "id": "sbyIylT9O9Dr",
        "pycharm": {
          "name": "#%% md\n"
        }
      },
      "source": [
        "**Задание 1.1 (3 балла).**\n",
        "\n",
        "Определите архитектуру сети соответственно схеме и указаниям выше.\n",
        "\n",
        "Ключевые слова: <code>Conv2d</code>, <code>BatchNorm2d</code>, <code>AvgPool2d</code>."
      ]
    },
    {
      "cell_type": "code",
      "source": [
        "next(iter(train_loader))[0].shape"
      ],
      "metadata": {
        "colab": {
          "base_uri": "https://localhost:8080/"
        },
        "id": "RD6nOcW5NT-5",
        "outputId": "4cedac07-5b9f-47ad-814f-8eb985e7c284"
      },
      "execution_count": 7,
      "outputs": [
        {
          "output_type": "execute_result",
          "data": {
            "text/plain": [
              "torch.Size([64, 3, 32, 32])"
            ]
          },
          "metadata": {},
          "execution_count": 7
        }
      ]
    },
    {
      "cell_type": "code",
      "execution_count": 8,
      "metadata": {
        "id": "s9ml1QGKy6N9",
        "pycharm": {
          "name": "#%%\n"
        }
      },
      "outputs": [],
      "source": [
        "n_classes = 10\n",
        "\n",
        "class BasicBlockNet(nn.Module):\n",
        "    def __init__(self):\n",
        "        super().__init__()\n",
        "\n",
        "        self.long_model = nn.Sequential(\n",
        "            nn.Conv2d(3, 32, 3, padding=1),\n",
        "            nn.BatchNorm2d(32),\n",
        "            nn.ReLU(),\n",
        "            nn.Conv2d(32, 32, 3, padding=1),\n",
        "            nn.BatchNorm2d(32)\n",
        "        )\n",
        "        self.short_model = nn.Conv2d(3, 32, 1)\n",
        "\n",
        "        self.result = nn.Sequential(\n",
        "            nn.ReLU(),\n",
        "            nn.AvgPool2d(8),\n",
        "            nn.Flatten(),\n",
        "            nn.Linear(512, n_classes)\n",
        "        )\n",
        "\n",
        "    def forward(self, x):\n",
        "        out = self.result(self.long_model(x) + self.short_model(x))\n",
        "        return out"
      ]
    },
    {
      "cell_type": "code",
      "execution_count": null,
      "metadata": {
        "id": "FI4BQg7Ky6Pw",
        "pycharm": {
          "name": "#%%\n"
        },
        "colab": {
          "base_uri": "https://localhost:8080/"
        },
        "outputId": "1d06600b-b4e3-4110-b372-82237737ea81"
      },
      "outputs": [
        {
          "output_type": "execute_result",
          "data": {
            "text/plain": [
              "BasicBlockNet(\n",
              "  (long_model): Sequential(\n",
              "    (0): Conv2d(3, 32, kernel_size=(3, 3), stride=(1, 1), padding=(1, 1))\n",
              "    (1): BatchNorm2d(32, eps=1e-05, momentum=0.1, affine=True, track_running_stats=True)\n",
              "    (2): ReLU()\n",
              "    (3): Conv2d(32, 32, kernel_size=(3, 3), stride=(1, 1), padding=(1, 1))\n",
              "    (4): BatchNorm2d(32, eps=1e-05, momentum=0.1, affine=True, track_running_stats=True)\n",
              "  )\n",
              "  (short_model): Conv2d(3, 32, kernel_size=(1, 1), stride=(1, 1))\n",
              "  (result): Sequential(\n",
              "    (0): ReLU()\n",
              "    (1): AvgPool2d(kernel_size=8, stride=8, padding=0)\n",
              "    (2): Flatten(start_dim=1, end_dim=-1)\n",
              "    (3): Linear(in_features=512, out_features=10, bias=True)\n",
              "  )\n",
              ")"
            ]
          },
          "metadata": {},
          "execution_count": 7
        }
      ],
      "source": [
        "net = BasicBlockNet()\n",
        "net"
      ]
    },
    {
      "cell_type": "markdown",
      "metadata": {
        "id": "igPoGZEub8d3",
        "pycharm": {
          "name": "#%% md\n"
        }
      },
      "source": [
        "Проверим, что выход сети имеет корректную размерность:"
      ]
    },
    {
      "cell_type": "code",
      "execution_count": null,
      "metadata": {
        "id": "cCIzFUpJ_Agw",
        "pycharm": {
          "name": "#%%\n"
        }
      },
      "outputs": [],
      "source": [
        "assert net(torch.zeros((10, 3, 32, 32))).shape == (10, 10)"
      ]
    },
    {
      "cell_type": "markdown",
      "metadata": {
        "id": "08osX622cDGz",
        "pycharm": {
          "name": "#%% md\n"
        }
      },
      "source": [
        "Чтобы проводить вычисления на GPU, в PyTorch необходимо руками перекладывать объекты, с которыми вы хотите проводить вычисления, на графический ускоритель. Это делается следующим образрм:"
      ]
    },
    {
      "cell_type": "code",
      "execution_count": 10,
      "metadata": {
        "id": "56hDOMCFcDZX",
        "pycharm": {
          "name": "#%%\n"
        },
        "colab": {
          "base_uri": "https://localhost:8080/"
        },
        "outputId": "87ff301d-8f99-469b-d6c9-2c2b399f175d"
      },
      "outputs": [
        {
          "output_type": "stream",
          "name": "stdout",
          "text": [
            "cuda:0\n"
          ]
        }
      ],
      "source": [
        "device = torch.device('cuda:0' if torch.cuda.is_available() else 'cpu')\n",
        "print(device)"
      ]
    },
    {
      "cell_type": "code",
      "execution_count": 11,
      "metadata": {
        "id": "ohnDWbp0qbtC",
        "pycharm": {
          "name": "#%%\n"
        },
        "colab": {
          "base_uri": "https://localhost:8080/",
          "height": 141
        },
        "outputId": "7162fa75-a4b9-41ea-a197-6e325771a6a2"
      },
      "outputs": [
        {
          "output_type": "error",
          "ename": "NameError",
          "evalue": "name 'net' is not defined",
          "traceback": [
            "\u001b[0;31m---------------------------------------------------------------------------\u001b[0m",
            "\u001b[0;31mNameError\u001b[0m                                 Traceback (most recent call last)",
            "\u001b[0;32m<ipython-input-11-410f8b535058>\u001b[0m in \u001b[0;36m<cell line: 1>\u001b[0;34m()\u001b[0m\n\u001b[0;32m----> 1\u001b[0;31m \u001b[0mnet\u001b[0m \u001b[0;34m=\u001b[0m \u001b[0mnet\u001b[0m\u001b[0;34m.\u001b[0m\u001b[0mto\u001b[0m\u001b[0;34m(\u001b[0m\u001b[0mdevice\u001b[0m\u001b[0;34m)\u001b[0m\u001b[0;34m\u001b[0m\u001b[0;34m\u001b[0m\u001b[0m\n\u001b[0m",
            "\u001b[0;31mNameError\u001b[0m: name 'net' is not defined"
          ]
        }
      ],
      "source": [
        "net = net.to(device)"
      ]
    },
    {
      "cell_type": "markdown",
      "metadata": {
        "id": "H_bOlTVUp5QF",
        "pycharm": {
          "name": "#%% md\n"
        }
      },
      "source": [
        "Подключение GPU в google.colab:\n",
        "\n",
        "**Среда выполнения** -> **Сменить среду выполнения** -> **Аппаратный ускоритель** -> **GPU**"
      ]
    },
    {
      "cell_type": "markdown",
      "metadata": {
        "id": "AGi6XX_7_Bgg",
        "pycharm": {
          "name": "#%% md\n"
        }
      },
      "source": [
        "## 2. Обучение и тестирование модели (3 балла)"
      ]
    },
    {
      "cell_type": "markdown",
      "metadata": {
        "id": "0agj_MQoO9Ds",
        "pycharm": {
          "name": "#%% md\n"
        }
      },
      "source": [
        "**Задание 2.1 (2 балла).** Переходим к обучению модели. Заполните пропуски в функциях <code>test</code> и <code>train_epoch</code>. В качестве функции потерь будем использовать [кросс-энтропию](https://pytorch.org/docs/stable/generated/torch.nn.functional.cross_entropy.html), а в качестве метрики качества accuracy."
      ]
    },
    {
      "cell_type": "code",
      "execution_count": 13,
      "metadata": {
        "id": "g8gsPPRIevDS",
        "pycharm": {
          "name": "#%%\n"
        }
      },
      "outputs": [],
      "source": [
        "def test(model, loader):\n",
        "    loss_log = []\n",
        "    acc_log = []\n",
        "    model.eval()\n",
        "    loss_fn = nn.CrossEntropyLoss()\n",
        "\n",
        "    for data, target in loader:\n",
        "        data = data.to(device)\n",
        "        target = target.to(device)\n",
        "\n",
        "        output = model(data)\n",
        "        loss = loss_fn(output, target)\n",
        "        loss_log.append(loss.item())\n",
        "\n",
        "        target_pred = torch.argmax(output, 1)\n",
        "        total = target.shape[0]\n",
        "        correct = (target_pred == target).sum()\n",
        "        acc = correct/total\n",
        "\n",
        "        acc_log.append(acc.item())\n",
        "    return np.mean(loss_log), np.mean(acc_log)\n",
        "\n",
        "def train_epoch(model, optimizer, train_loader):\n",
        "    loss_log = []\n",
        "    acc_log = []\n",
        "    model.train()\n",
        "    loss_fn = nn.CrossEntropyLoss()\n",
        "\n",
        "    for data, target in train_loader:\n",
        "        data = data.to(device)\n",
        "        target = target.to(device)\n",
        "\n",
        "        optimizer.zero_grad()\n",
        "\n",
        "        output = model(data)\n",
        "        loss = loss_fn(output, target)\n",
        "        loss_log.append(loss.item())\n",
        "\n",
        "        loss.backward()\n",
        "        optimizer.step()\n",
        "\n",
        "        target_pred = torch.argmax(output, 1)\n",
        "        total = target.shape[0]\n",
        "        correct = (target_pred == target).sum()\n",
        "        acc = correct/total\n",
        "        acc_log.append(acc.item())\n",
        "\n",
        "    return loss_log, acc_log\n",
        "\n",
        "def train(model, optimizer, n_epochs, train_loader, val_loader, scheduler=None):\n",
        "    train_loss_log, train_acc_log, val_loss_log, val_acc_log = [], [], [], []\n",
        "\n",
        "    for epoch in range(n_epochs):\n",
        "        train_loss, train_acc = train_epoch(model, optimizer, train_loader)\n",
        "        val_loss, val_acc = test(model, val_loader)\n",
        "\n",
        "        train_loss_log.extend(train_loss)\n",
        "        train_acc_log.extend(train_acc)\n",
        "\n",
        "        val_loss_log.append(val_loss)\n",
        "        val_acc_log.append(val_acc)\n",
        "\n",
        "        print(f\"Epoch {epoch}\")\n",
        "        print(f\" train loss: {np.mean(train_loss)}, train acc: {np.mean(train_acc)}\")\n",
        "        print(f\" val loss: {val_loss}, val acc: {val_acc}\\n\")\n",
        "\n",
        "        if scheduler is not None:\n",
        "            scheduler.step()\n",
        "\n",
        "    return train_loss_log, train_acc_log, val_loss_log, val_acc_log"
      ]
    },
    {
      "cell_type": "markdown",
      "metadata": {
        "id": "iSOqk_CAO9Dt",
        "pycharm": {
          "name": "#%% md\n"
        }
      },
      "source": [
        "Запустим обучение модели. В качестве оптимизатора будем использовать стохастический градиентный спуск, который является де-факто стандартом в задачах компьютерного зрения (наравне с <code>Adam</code>).\n",
        "\n",
        "__Замечание:__ Для достижения наилучшего качества в нашем случае потребуется обучать модель несколько сотен эпох. Однако в целях экономии вашего времени и сил, во всех экспериментах мы ограничимся 20 эпохами."
      ]
    },
    {
      "cell_type": "code",
      "execution_count": null,
      "metadata": {
        "id": "MKZBGhuAgMDu",
        "scrolled": true,
        "pycharm": {
          "name": "#%%\n"
        },
        "colab": {
          "base_uri": "https://localhost:8080/"
        },
        "outputId": "94626e62-1b08-49b7-de28-384e1e01c3b7"
      },
      "outputs": [
        {
          "output_type": "stream",
          "name": "stdout",
          "text": [
            "Epoch 0\n",
            " train loss: 1.4650280603107195, train acc: 0.4777112170590779\n",
            " val loss: 1.3138727621829256, val acc: 0.5444592199427016\n",
            "\n",
            "Epoch 1\n",
            " train loss: 1.1510095039494947, train acc: 0.593790807061483\n",
            " val loss: 1.1500600827501175, val acc: 0.604720744680851\n",
            "\n",
            "Epoch 2\n",
            " train loss: 1.038500690155099, train acc: 0.636691205353362\n",
            " val loss: 0.9967108863465329, val acc: 0.6523936170212766\n",
            "\n",
            "Epoch 3\n",
            " train loss: 0.9803853220216099, train acc: 0.6580699921961894\n",
            " val loss: 0.9750233026261025, val acc: 0.6648492909492331\n",
            "\n",
            "Epoch 4\n",
            " train loss: 0.9490671287506982, train acc: 0.6681125947500713\n",
            " val loss: 0.9626553142324407, val acc: 0.6598182624958931\n",
            "\n",
            "Epoch 5\n",
            " train loss: 0.9103820277088521, train acc: 0.6829132933503314\n",
            " val loss: 1.0110192681880708, val acc: 0.6577349292471054\n",
            "\n",
            "Epoch 6\n",
            " train loss: 0.8861881818152433, train acc: 0.6933843693959866\n",
            " val loss: 0.9102643690210708, val acc: 0.684751773134191\n",
            "\n",
            "Epoch 7\n",
            " train loss: 0.8648268876280601, train acc: 0.7019742426532278\n",
            " val loss: 0.9193652259542587, val acc: 0.6822916667512122\n",
            "\n",
            "Epoch 8\n",
            " train loss: 0.8553095481731338, train acc: 0.7014029446641967\n",
            " val loss: 0.8749316154642308, val acc: 0.6945257093044037\n",
            "\n",
            "Epoch 9\n",
            " train loss: 0.830736288368375, train acc: 0.71239635026869\n",
            " val loss: 0.970438033215543, val acc: 0.6669769505237011\n",
            "\n",
            "Epoch 10\n",
            " train loss: 0.8186500636925427, train acc: 0.7173625620889054\n",
            " val loss: 0.8939215076730607, val acc: 0.6940602837724889\n",
            "\n",
            "Epoch 11\n",
            " train loss: 0.803839218572899, train acc: 0.7222471598951211\n",
            " val loss: 0.8874387540715806, val acc: 0.6964539007937655\n",
            "\n",
            "Epoch 12\n",
            " train loss: 0.8041270277181971, train acc: 0.7207332202241887\n",
            " val loss: 0.9008140323009897, val acc: 0.6952349292471054\n",
            "\n",
            "Epoch 13\n",
            " train loss: 0.7811216731611945, train acc: 0.7289680726349462\n",
            " val loss: 0.9117327724365478, val acc: 0.693594858240574\n",
            "\n",
            "Epoch 14\n",
            " train loss: 0.7801237463733178, train acc: 0.7299515213783306\n",
            " val loss: 0.8867992771432754, val acc: 0.6974290781832756\n",
            "\n",
            "Epoch 15\n",
            " train loss: 0.7651164572025347, train acc: 0.7334527618488402\n",
            " val loss: 0.8519971938843423, val acc: 0.708067376055616\n",
            "\n",
            "Epoch 16\n",
            " train loss: 0.7604003465262802, train acc: 0.7352645926763196\n",
            " val loss: 0.8693697843145817, val acc: 0.7038563829787234\n",
            "\n",
            "Epoch 17\n",
            " train loss: 0.7527685556049974, train acc: 0.7369295182132198\n",
            " val loss: 0.8406004036994691, val acc: 0.7136303191489362\n",
            "\n",
            "Epoch 18\n",
            " train loss: 0.7443561343649842, train acc: 0.7415978388768881\n",
            " val loss: 0.8628503401228722, val acc: 0.7090868795171698\n",
            "\n",
            "Epoch 19\n",
            " train loss: 0.7395405690892305, train acc: 0.7419977474692099\n",
            " val loss: 0.8467871189117432, val acc: 0.7100177305809995\n",
            "\n"
          ]
        }
      ],
      "source": [
        "optimizer = optim.SGD(net.parameters(), lr=0.1, momentum=0.9)\n",
        "train_loss_log, train_acc_log, val_loss_log, val_acc_log = train(net, optimizer, 20, train_loader, val_loader)"
      ]
    },
    {
      "cell_type": "markdown",
      "metadata": {
        "id": "gUb1jQW8O9Dt",
        "pycharm": {
          "name": "#%% md\n"
        }
      },
      "source": [
        "Посчитайте точность на тестовой выборке:"
      ]
    },
    {
      "cell_type": "code",
      "execution_count": null,
      "metadata": {
        "id": "Jyuc55B9_Amc",
        "pycharm": {
          "name": "#%%\n"
        },
        "colab": {
          "base_uri": "https://localhost:8080/"
        },
        "outputId": "7ff31365-213c-4b1e-adfa-429b26ec7182"
      },
      "outputs": [
        {
          "output_type": "stream",
          "name": "stdout",
          "text": [
            "0.7058999538421631\n"
          ]
        }
      ],
      "source": [
        "total = 0\n",
        "correct = 0\n",
        "net.eval()\n",
        "\n",
        "for data, target in test_loader:\n",
        "    data = data.to(device)\n",
        "    target = target.to(device)\n",
        "\n",
        "    output = net(data)\n",
        "\n",
        "    target_pred = torch.argmax(output, 1)\n",
        "    total += target.shape[0]\n",
        "    correct += (target_pred == target).sum()\n",
        "print((correct/total).item())"
      ]
    },
    {
      "cell_type": "markdown",
      "source": [
        "Получили accuracy 70.6 процентов"
      ],
      "metadata": {
        "id": "n20uuMxipl_5"
      }
    },
    {
      "cell_type": "markdown",
      "metadata": {
        "id": "zM38Q9fwO9Dt",
        "pycharm": {
          "name": "#%% md\n"
        }
      },
      "source": [
        "Если вы все сделали правильно, у вас должна была получиться точность $\\ge 67\\%$."
      ]
    },
    {
      "cell_type": "markdown",
      "metadata": {
        "id": "DHFNSKcoO9Dt",
        "pycharm": {
          "name": "#%% md\n"
        }
      },
      "source": [
        "**Задание 2.2 (1 балл).** Постройте графики зависимости функции потерь и точности классификации от номера шага оптимизатора. На каждом графике расположите данные и для обучающей и для валидационной выборки, итого у вас должно получиться два графика. Обратите внимание, что на обучающей выборке эти данные считаются по каждому батчу, на валидационной же они считаются по всей выборке раз в эпоху."
      ]
    },
    {
      "cell_type": "code",
      "execution_count": null,
      "metadata": {
        "id": "LzIP0tGLO9Dt",
        "pycharm": {
          "name": "#%%\n"
        },
        "colab": {
          "base_uri": "https://localhost:8080/",
          "height": 416
        },
        "outputId": "26943d12-9ff9-4eba-b314-b30d7c011cf3"
      },
      "outputs": [
        {
          "output_type": "display_data",
          "data": {
            "text/plain": [
              "<Figure size 2400x800 with 2 Axes>"
            ],
            "image/png": "[encoded data removed]"
          },
          "metadata": {}
        }
      ],
      "source": [
        "fig, axs = plt.subplots(1, 2, figsize=(24, 8))\n",
        "\n",
        "train_x = np.arange(1, len(train_loss_log) + 1)\n",
        "val_x = np.arange(1, len(val_loss_log) + 1)*len(train_loss_log)//len(val_loss_log)\n",
        "\n",
        "axs[0].plot(train_x, train_loss_log, label='Train loss')\n",
        "axs[0].plot(val_x, val_loss_log, label='Test loss')\n",
        "\n",
        "axs[1].plot(train_x, train_acc_log, label='Train accuracy')\n",
        "axs[1].plot(val_x, val_acc_log, label='Test accuracy')\n",
        "\n",
        "axs[0].legend()\n",
        "axs[1].legend()\n",
        "\n",
        "plt.show()"
      ]
    },
    {
      "cell_type": "markdown",
      "metadata": {
        "id": "_ttOJPj-O9Dt",
        "pycharm": {
          "name": "#%% md\n"
        }
      },
      "source": [
        "## 3. Расписание длины шага (2 балла)"
      ]
    },
    {
      "cell_type": "markdown",
      "metadata": {
        "id": "qiz3JstuO9Dt",
        "pycharm": {
          "name": "#%% md\n"
        }
      },
      "source": [
        "С курса \"Машинное обучение 1\" вы уже должны знать, что сходимость стохастического градиентного спуска мы можем теоретически гарантировать только если будем определенным образом со временем уменьшать длину шага. На практике при обучении нейронных сетей такая техника оказывается очень полезной, однако теоретически обоснованными способами уменьшения длины шага фантазия не ограничивается.\n",
        "\n",
        "Одним из простейших способов является кусочно постоянная функция: на нескольких фиксированных эпохах уменьшаем длину шага в константу раз."
      ]
    },
    {
      "cell_type": "code",
      "execution_count": null,
      "metadata": {
        "id": "V2Z0OT3nO9Du",
        "pycharm": {
          "name": "#%%\n"
        },
        "colab": {
          "base_uri": "https://localhost:8080/"
        },
        "outputId": "2d75b6ec-8f90-4218-ba94-6320b224a57e"
      },
      "outputs": [
        {
          "output_type": "stream",
          "name": "stdout",
          "text": [
            "Epoch 0\n",
            " train loss: 1.4991354523890632, train acc: 0.4626248694643024\n",
            " val loss: 1.3604982097098168, val acc: 0.5300088654173182\n",
            "\n",
            "Epoch 1\n",
            " train loss: 1.187832339154301, train acc: 0.5877513711151737\n",
            " val loss: 1.1360731464751224, val acc: 0.6045434397585848\n",
            "\n",
            "Epoch 2\n",
            " train loss: 1.0665108681378896, train acc: 0.6306925764685357\n",
            " val loss: 1.0377420384833154, val acc: 0.6411125888215735\n",
            "\n",
            "Epoch 3\n",
            " train loss: 1.0107073612797195, train acc: 0.6484477017653708\n",
            " val loss: 1.046030642631206, val acc: 0.6352171986661059\n",
            "\n",
            "Epoch 4\n",
            " train loss: 0.972650982017273, train acc: 0.6617303800103433\n",
            " val loss: 1.0145319548059017, val acc: 0.6515514186088075\n",
            "\n",
            "Epoch 5\n",
            " train loss: 0.9513857246970782, train acc: 0.6708589057817755\n",
            " val loss: 1.014965873829862, val acc: 0.6480496454746165\n",
            "\n",
            "Epoch 6\n",
            " train loss: 0.9188336961012218, train acc: 0.6804240664136911\n",
            " val loss: 0.975214536900216, val acc: 0.661192376055616\n",
            "\n",
            "Epoch 7\n",
            " train loss: 0.9062159221612557, train acc: 0.6842068751943613\n",
            " val loss: 1.0101618878384855, val acc: 0.6513297872340426\n",
            "\n",
            "Epoch 8\n",
            " train loss: 0.8822074180547237, train acc: 0.6922662575240545\n",
            " val loss: 0.9254675253908685, val acc: 0.682158688027808\n",
            "\n",
            "Epoch 9\n",
            " train loss: 0.8738873483276018, train acc: 0.6955920280224662\n",
            " val loss: 0.9396466092860445, val acc: 0.6789007093044037\n",
            "\n",
            "Epoch 10\n",
            " train loss: 0.7664570676016416, train acc: 0.735236027776868\n",
            " val loss: 0.844638220046429, val acc: 0.7087101063829787\n",
            "\n",
            "Epoch 11\n",
            " train loss: 0.7458166137364927, train acc: 0.7414631758573068\n",
            " val loss: 0.8401523808215526, val acc: 0.7111702127659575\n",
            "\n",
            "Epoch 12\n",
            " train loss: 0.7399746066800419, train acc: 0.7449358514283649\n",
            " val loss: 0.8439734321959476, val acc: 0.709906914893617\n",
            "\n",
            "Epoch 13\n",
            " train loss: 0.7356135497036538, train acc: 0.7447603813473006\n",
            " val loss: 0.8450747413838163, val acc: 0.7099734042553192\n",
            "\n",
            "Epoch 14\n",
            " train loss: 0.7310602320068715, train acc: 0.7470618961498114\n",
            " val loss: 0.8393158382557808, val acc: 0.7147606382978723\n",
            "\n",
            "Epoch 15\n",
            " train loss: 0.7149812886985172, train acc: 0.7533584160822183\n",
            " val loss: 0.8293356649419095, val acc: 0.7147828015875309\n",
            "\n",
            "Epoch 16\n",
            " train loss: 0.714548802789866, train acc: 0.75210972187506\n",
            " val loss: 0.8269458136659987, val acc: 0.7168439718002969\n",
            "\n",
            "Epoch 17\n",
            " train loss: 0.7125948155383959, train acc: 0.753488998526411\n",
            " val loss: 0.8276217975515, val acc: 0.7166445037151905\n",
            "\n",
            "Epoch 18\n",
            " train loss: 0.7120227268343652, train acc: 0.755088632895698\n",
            " val loss: 0.8266728529270659, val acc: 0.7169769505237011\n",
            "\n",
            "Epoch 19\n",
            " train loss: 0.7102465154483941, train acc: 0.7548029839011825\n",
            " val loss: 0.8272554037418771, val acc: 0.716910461161999\n",
            "\n"
          ]
        }
      ],
      "source": [
        "net = BasicBlockNet().to(device)\n",
        "optimizer = optim.SGD(net.parameters(), lr=0.1, momentum=0.9)\n",
        "scheduler = optim.lr_scheduler.MultiStepLR(optimizer, milestones=[10, 15], gamma=0.1)\n",
        "tr_loss_log, tr_acc_log, val_loss_log, val_acc_log = train(net, optimizer, 20, train_loader, val_loader, scheduler)"
      ]
    },
    {
      "cell_type": "markdown",
      "metadata": {
        "id": "5Xc76KvzO9Du",
        "pycharm": {
          "name": "#%% md\n"
        }
      },
      "source": [
        "Посчитайте точность на тестовой выборке:"
      ]
    },
    {
      "cell_type": "code",
      "execution_count": null,
      "metadata": {
        "id": "1AjiYhKqO9Du",
        "pycharm": {
          "name": "#%%\n"
        },
        "colab": {
          "base_uri": "https://localhost:8080/"
        },
        "outputId": "ab24a87d-a83b-4b1b-97b4-347ae40911ff"
      },
      "outputs": [
        {
          "output_type": "stream",
          "name": "stdout",
          "text": [
            "0.7085999846458435\n"
          ]
        }
      ],
      "source": [
        "total = 0\n",
        "correct = 0\n",
        "net.eval()\n",
        "\n",
        "for data, target in test_loader:\n",
        "    data = data.to(device)\n",
        "    target = target.to(device)\n",
        "\n",
        "    output = net(data)\n",
        "\n",
        "    target_pred = torch.argmax(output, 1)\n",
        "    total += target.shape[0]\n",
        "    correct += (target_pred == target).sum()\n",
        "print((correct/total).item())"
      ]
    },
    {
      "cell_type": "markdown",
      "source": [
        "Немного улучшили (0.2 процента), но не то, чтобы это прям что-то серьезное"
      ],
      "metadata": {
        "id": "YPSxiUTvqrKQ"
      }
    },
    {
      "cell_type": "markdown",
      "metadata": {
        "id": "yE0dgLYrO9Du",
        "pycharm": {
          "name": "#%% md\n"
        }
      },
      "source": [
        "**Задание 3.0 (0.5 баллов).** Здесь может возникнуть вопрос: а что будет, если мы не будем уменьшать длину шага в процессе обучения, а сразу возьмем констатную, равную значению нашей кусочно-постоянной функции на последних эпохах, то есть $0.001$ в нашем случае. Запустите обучение и проверьте, что в таком случае мы получим худшее качество на тестовой выборке."
      ]
    },
    {
      "cell_type": "code",
      "execution_count": null,
      "metadata": {
        "id": "qZ2iB-LBO9Du",
        "pycharm": {
          "name": "#%%\n"
        },
        "colab": {
          "base_uri": "https://localhost:8080/"
        },
        "outputId": "de652c3e-ddad-42c6-d2d2-4c7bccd4c340"
      },
      "outputs": [
        {
          "output_type": "stream",
          "name": "stdout",
          "text": [
            "Epoch 0\n",
            " train loss: 1.8301066277885785, train acc: 0.362047858495381\n",
            " val loss: 1.6224169736212872, val acc: 0.43459663124794656\n",
            "\n",
            "Epoch 1\n",
            " train loss: 1.5390109697687124, train acc: 0.4608252807988545\n",
            " val loss: 1.4502387082323116, val acc: 0.48792109933305294\n",
            "\n",
            "Epoch 2\n",
            " train loss: 1.415714030509893, train acc: 0.4998000457038391\n",
            " val loss: 1.3674030405409792, val acc: 0.51875\n",
            "\n",
            "Epoch 3\n",
            " train loss: 1.3447955421817368, train acc: 0.5291729238177131\n",
            " val loss: 1.3194969831629002, val acc: 0.5387411348363187\n",
            "\n",
            "Epoch 4\n",
            " train loss: 1.2910354973193279, train acc: 0.5455202076727119\n",
            " val loss: 1.262459384380503, val acc: 0.5507092199427016\n",
            "\n",
            "Epoch 5\n",
            " train loss: 1.2402832149587557, train acc: 0.5663276965265083\n",
            " val loss: 1.2341726592246522, val acc: 0.5674202127659574\n",
            "\n",
            "Epoch 6\n",
            " train loss: 1.1976794271408095, train acc: 0.5811120723893481\n",
            " val loss: 1.1766120149734172, val acc: 0.5872562057160317\n",
            "\n",
            "Epoch 7\n",
            " train loss: 1.1615897889982847, train acc: 0.5955169430816414\n",
            " val loss: 1.1369115327266937, val acc: 0.6014627659574469\n",
            "\n",
            "Epoch 8\n",
            " train loss: 1.1257803089222045, train acc: 0.6083466636197441\n",
            " val loss: 1.1115617823093495, val acc: 0.6127659574468085\n",
            "\n",
            "Epoch 9\n",
            " train loss: 1.0979030313177998, train acc: 0.6167569862205324\n",
            " val loss: 1.102248719905285, val acc: 0.6154476952045522\n",
            "\n",
            "Epoch 10\n",
            " train loss: 1.0725030786812415, train acc: 0.6282768020682187\n",
            " val loss: 1.0698148970908308, val acc: 0.6257978723404255\n",
            "\n",
            "Epoch 11\n",
            " train loss: 1.0500542837479432, train acc: 0.6351078937214951\n",
            " val loss: 1.0374328450953707, val acc: 0.6410460993330529\n",
            "\n",
            "Epoch 12\n",
            " train loss: 1.0269120210267508, train acc: 0.6437997846324439\n",
            " val loss: 1.0367154030089683, val acc: 0.6335328015875309\n",
            "\n",
            "Epoch 13\n",
            " train loss: 1.0136115933467091, train acc: 0.6489700314331752\n",
            " val loss: 1.0364013763184243, val acc: 0.639472517815042\n",
            "\n",
            "Epoch 14\n",
            " train loss: 0.9959484003143729, train acc: 0.6527569208982004\n",
            " val loss: 1.0196795420443758, val acc: 0.6467420212765957\n",
            "\n",
            "Epoch 15\n",
            " train loss: 0.9808430333895919, train acc: 0.6605755419792161\n",
            " val loss: 0.9906249170607709, val acc: 0.656094858240574\n",
            "\n",
            "Epoch 16\n",
            " train loss: 0.9670228712955384, train acc: 0.6641053473491774\n",
            " val loss: 0.9705800837658821, val acc: 0.6606161348363186\n",
            "\n",
            "Epoch 17\n",
            " train loss: 0.9597826132608724, train acc: 0.6668271742747515\n",
            " val loss: 0.9744914838608275, val acc: 0.6585771276595744\n",
            "\n",
            "Epoch 18\n",
            " train loss: 0.9495809583820852, train acc: 0.6711241512455496\n",
            " val loss: 0.9663655565140096, val acc: 0.6595966312479465\n",
            "\n",
            "Epoch 19\n",
            " train loss: 0.9407172758792829, train acc: 0.6731685819529964\n",
            " val loss: 0.984722037518278, val acc: 0.6554521276595745\n",
            "\n"
          ]
        }
      ],
      "source": [
        "net = BasicBlockNet().to(device)\n",
        "optimizer = optim.SGD(net.parameters(), lr=0.001, momentum=0.9)\n",
        "train_loss_log, train_acc_log, val_loss_log, val_acc_log = train(net, optimizer, 20, train_loader, val_loader)"
      ]
    },
    {
      "cell_type": "code",
      "execution_count": null,
      "metadata": {
        "id": "nkGlzocOO9Du",
        "pycharm": {
          "name": "#%%\n"
        },
        "colab": {
          "base_uri": "https://localhost:8080/"
        },
        "outputId": "ac04f502-ed5c-418a-c788-76ff0841b7d4"
      },
      "outputs": [
        {
          "output_type": "stream",
          "name": "stdout",
          "text": [
            "0.6507999897003174\n"
          ]
        }
      ],
      "source": [
        "total = 0\n",
        "correct = 0\n",
        "net.eval()\n",
        "\n",
        "for data, target in test_loader:\n",
        "    data = data.to(device)\n",
        "    target = target.to(device)\n",
        "\n",
        "    output = net(data)\n",
        "\n",
        "    target_pred = torch.argmax(output, 1)\n",
        "    total += target.shape[0]\n",
        "    correct += (target_pred == target).sum()\n",
        "print((correct/total).item())"
      ]
    },
    {
      "cell_type": "markdown",
      "source": [
        "Сделали хуже на 5 процентов примерно"
      ],
      "metadata": {
        "id": "R1bXpVheq8oi"
      }
    },
    {
      "cell_type": "markdown",
      "metadata": {
        "id": "xVotU378O9Du",
        "pycharm": {
          "name": "#%% md\n"
        }
      },
      "source": [
        "**Задание 3.1 (1.5 балла).** Изучите, какие еще способы уменьшения длины шага представлены в <code>torch.optim.lr_scheduler</code>. Выберите несколько из них, объясните, как они устроены, и обучите модель с ними. Удалось ли добиться улучшения качества на тестовой выборке?"
      ]
    },
    {
      "cell_type": "markdown",
      "source": [
        "Интуитивно сходимость градиентного спуска должна быть экспоненциальной, если мы начнем снижать шаг также экспоненциально - это может помочь (будем уменьшена до 90% lr с каждой эпохой)"
      ],
      "metadata": {
        "id": "2Nl6NHiCYAD6"
      }
    },
    {
      "cell_type": "code",
      "source": [
        "net = BasicBlockNet().to(device)\n",
        "optimizer = optim.SGD(net.parameters(), lr=0.1, momentum=0.9)\n",
        "scheduler = optim.lr_scheduler.ExponentialLR(optimizer, 0.9)\n",
        "tr_loss_log, tr_acc_log, val_loss_log, val_acc_log = train(net, optimizer, 20, train_loader, val_loader, scheduler)"
      ],
      "metadata": {
        "colab": {
          "base_uri": "https://localhost:8080/"
        },
        "id": "cyTX0QCEXqca",
        "outputId": "9e9b0247-1ef0-426a-b269-b3d50034011e"
      },
      "execution_count": null,
      "outputs": [
        {
          "output_type": "stream",
          "name": "stdout",
          "text": [
            "Epoch 0\n",
            " train loss: 1.4672887969278547, train acc: 0.4796617915904936\n",
            " val loss: 1.2577427164037176, val acc: 0.5544326241980208\n",
            "\n",
            "Epoch 1\n",
            " train loss: 1.140705664480408, train acc: 0.6025439083467236\n",
            " val loss: 1.1162960394899897, val acc: 0.6128102837724888\n",
            "\n",
            "Epoch 2\n",
            " train loss: 1.033464521551045, train acc: 0.6397884565471949\n",
            " val loss: 1.0205612758372693, val acc: 0.6473847518575953\n",
            "\n",
            "Epoch 3\n",
            " train loss: 0.97603591715396, train acc: 0.6611590820213122\n",
            " val loss: 1.0097078571928308, val acc: 0.6505319148936171\n",
            "\n",
            "Epoch 4\n",
            " train loss: 0.9336597644868673, train acc: 0.672168810472192\n",
            " val loss: 0.9799871731311717, val acc: 0.6603058510638298\n",
            "\n",
            "Epoch 5\n",
            " train loss: 0.9010806657932359, train acc: 0.686724667030453\n",
            " val loss: 0.9497016138218819, val acc: 0.6694813829787234\n",
            "\n",
            "Epoch 6\n",
            " train loss: 0.8771215640212762, train acc: 0.6970121116263339\n",
            " val loss: 0.950741241840606, val acc: 0.6665115249917862\n",
            "\n",
            "Epoch 7\n",
            " train loss: 0.8552150273017953, train acc: 0.7034718595867401\n",
            " val loss: 0.9188168842741784, val acc: 0.6815602837724889\n",
            "\n",
            "Epoch 8\n",
            " train loss: 0.8346616048263675, train acc: 0.7119352311931101\n",
            " val loss: 0.9016996573894582, val acc: 0.6871232271194458\n",
            "\n",
            "Epoch 9\n",
            " train loss: 0.814404382457245, train acc: 0.7165749869573269\n",
            " val loss: 0.9120638241159155, val acc: 0.6841976952045522\n",
            "\n",
            "Epoch 10\n",
            " train loss: 0.7976438742015218, train acc: 0.7235570645855376\n",
            " val loss: 0.8712105718064815, val acc: 0.6960771276595744\n",
            "\n",
            "Epoch 11\n",
            " train loss: 0.7882584514848929, train acc: 0.7285722447269796\n",
            " val loss: 0.8902355873838385, val acc: 0.6932402483960416\n",
            "\n",
            "Epoch 12\n",
            " train loss: 0.7729106690918506, train acc: 0.7335751829243229\n",
            " val loss: 0.8659874266766487, val acc: 0.6997118795171697\n",
            "\n",
            "Epoch 13\n",
            " train loss: 0.7639477987394037, train acc: 0.7349462980979975\n",
            " val loss: 0.8922630348104111, val acc: 0.6934840425531915\n",
            "\n",
            "Epoch 14\n",
            " train loss: 0.7483832346346958, train acc: 0.7408877971839207\n",
            " val loss: 0.8508714749457988, val acc: 0.704565602921425\n",
            "\n",
            "Epoch 15\n",
            " train loss: 0.7409495195370488, train acc: 0.7424874315532077\n",
            " val loss: 0.852733743698039, val acc: 0.7063608156873825\n",
            "\n",
            "Epoch 16\n",
            " train loss: 0.7287209297664858, train acc: 0.7459968333924274\n",
            " val loss: 0.8396580581969403, val acc: 0.7115691489361702\n",
            "\n",
            "Epoch 17\n",
            " train loss: 0.7212789322928929, train acc: 0.7502325999889339\n",
            " val loss: 0.8391531937933983, val acc: 0.7105274824385948\n",
            "\n",
            "Epoch 18\n",
            " train loss: 0.7144779564584631, train acc: 0.7511834030395452\n",
            " val loss: 0.8287565766496862, val acc: 0.715093085106383\n",
            "\n",
            "Epoch 19\n",
            " train loss: 0.7048370012744472, train acc: 0.7554640572729233\n",
            " val loss: 0.8209434485181849, val acc: 0.7190159574468085\n",
            "\n"
          ]
        }
      ]
    },
    {
      "cell_type": "code",
      "source": [
        "total = 0\n",
        "correct = 0\n",
        "net.eval()\n",
        "\n",
        "for data, target in test_loader:\n",
        "    data = data.to(device)\n",
        "    target = target.to(device)\n",
        "\n",
        "    output = net(data)\n",
        "\n",
        "    target_pred = torch.argmax(output, 1)\n",
        "    total += target.shape[0]\n",
        "    correct += (target_pred == target).sum()\n",
        "print((correct/total).item())"
      ],
      "metadata": {
        "colab": {
          "base_uri": "https://localhost:8080/"
        },
        "id": "nG8d55gjZJPi",
        "outputId": "0f8f68f0-5fce-473d-f27d-ad61f2fe1ffd"
      },
      "execution_count": null,
      "outputs": [
        {
          "output_type": "stream",
          "name": "stdout",
          "text": [
            "0.7109999656677246\n"
          ]
        }
      ]
    },
    {
      "cell_type": "markdown",
      "source": [
        "Чуть-чуть улучшили (примерно на 0.5 процента (в другие запуски был прирост 1.5 процента, но суть примерно такая же)). Теперь используем CosineAnnealingWarmRestarts, которая меняет lr по косинусу, и которая позволяет периодически \"перезапускать\" lr:"
      ],
      "metadata": {
        "id": "3Y6f9NlCrmHw"
      }
    },
    {
      "cell_type": "code",
      "source": [
        "net = BasicBlockNet().to(device)\n",
        "optimizer = optim.SGD(net.parameters(), lr=0.1, momentum=0.9)\n",
        "# scheduler = torch.optim.lr_scheduler.CosineAnnealingLR(optimizer, T_max=50, eta_min=0)\n",
        "scheduler = torch.optim.lr_scheduler.CosineAnnealingWarmRestarts(optimizer, T_0=10, T_mult=2, eta_min=0)\n",
        "tr_loss_log, tr_acc_log, val_loss_log, val_acc_log = train(net, optimizer, 20, train_loader, val_loader, scheduler)"
      ],
      "metadata": {
        "colab": {
          "base_uri": "https://localhost:8080/"
        },
        "id": "3gNLXjvTZA4t",
        "outputId": "12ce2759-f916-472a-9447-9d5a591aacad"
      },
      "execution_count": 14,
      "outputs": [
        {
          "output_type": "stream",
          "name": "stdout",
          "text": [
            "Epoch 0\n",
            " train loss: 1.4914122207509097, train acc: 0.46386132150942927\n",
            " val loss: 1.2573967456817627, val acc: 0.5561170212765958\n",
            "\n",
            "Epoch 1\n",
            " train loss: 1.1621891410520788, train acc: 0.5947987399109974\n",
            " val loss: 1.1133182107134068, val acc: 0.6127216312479465\n",
            "\n",
            "Epoch 2\n",
            " train loss: 1.041992772322904, train acc: 0.6357608057245258\n",
            " val loss: 1.0699725701453837, val acc: 0.628413120736467\n",
            "\n",
            "Epoch 3\n",
            " train loss: 0.9695722623106766, train acc: 0.6637870527708553\n",
            " val loss: 1.0422825978157368, val acc: 0.6360372340425532\n",
            "\n",
            "Epoch 4\n",
            " train loss: 0.9201683268032737, train acc: 0.6798160421564985\n",
            " val loss: 0.9300715339944717, val acc: 0.6824689718002969\n",
            "\n",
            "Epoch 5\n",
            " train loss: 0.8753386628039358, train acc: 0.6950615369859517\n",
            " val loss: 0.9463587796434443, val acc: 0.6717863476022761\n",
            "\n",
            "Epoch 6\n",
            " train loss: 0.8394451759197158, train acc: 0.7084788783594721\n",
            " val loss: 0.8645983744174877, val acc: 0.7045877659574468\n",
            "\n",
            "Epoch 7\n",
            " train loss: 0.8029908507898913, train acc: 0.7226837947556044\n",
            " val loss: 0.8602301587449743, val acc: 0.7019281914893617\n",
            "\n",
            "Epoch 8\n",
            " train loss: 0.7768096431844631, train acc: 0.7318286432644567\n",
            " val loss: 0.8445342274422342, val acc: 0.7107491135597229\n",
            "\n",
            "Epoch 9\n",
            " train loss: 0.75822621878148, train acc: 0.738627089442893\n",
            " val loss: 0.835551263677313, val acc: 0.7110372340425531\n",
            "\n",
            "Epoch 10\n",
            " train loss: 0.9183403225224023, train acc: 0.6850801450242944\n",
            " val loss: 0.9818834619319186, val acc: 0.6639627659574469\n",
            "\n",
            "Epoch 11\n",
            " train loss: 0.8961064285944323, train acc: 0.6894873009085437\n",
            " val loss: 0.9771453426239338, val acc: 0.6675975178150421\n",
            "\n",
            "Epoch 12\n",
            " train loss: 0.8713591202303522, train acc: 0.6960653891511112\n",
            " val loss: 0.9417121073032947, val acc: 0.678036347602276\n",
            "\n",
            "Epoch 13\n",
            " train loss: 0.8495705730300499, train acc: 0.704451227536803\n",
            " val loss: 0.8871160017683151, val acc: 0.6970744680851064\n",
            "\n",
            "Epoch 14\n",
            " train loss: 0.8274698375130048, train acc: 0.7139796617915904\n",
            " val loss: 0.9033928531281492, val acc: 0.6890070922831272\n",
            "\n",
            "Epoch 15\n",
            " train loss: 0.812509189576074, train acc: 0.7181011687902907\n",
            " val loss: 0.878770845240735, val acc: 0.6981826241980208\n",
            "\n",
            "Epoch 16\n",
            " train loss: 0.7948548067531377, train acc: 0.7250710042564699\n",
            " val loss: 0.8979612053708828, val acc: 0.6935505319148936\n",
            "\n",
            "Epoch 17\n",
            " train loss: 0.7745389224624285, train acc: 0.7289395077354948\n",
            " val loss: 0.8578039727312453, val acc: 0.706626773134191\n",
            "\n",
            "Epoch 18\n",
            " train loss: 0.7604797696609602, train acc: 0.7365704165734146\n",
            " val loss: 0.9575714205173735, val acc: 0.6739583335024245\n",
            "\n",
            "Epoch 19\n",
            " train loss: 0.7427235755122776, train acc: 0.7406388744575668\n",
            " val loss: 0.9175142894399927, val acc: 0.6883421986661059\n",
            "\n"
          ]
        }
      ]
    },
    {
      "cell_type": "code",
      "source": [
        "total = 0\n",
        "correct = 0\n",
        "net.eval()\n",
        "\n",
        "for data, target in test_loader:\n",
        "    data = data.to(device)\n",
        "    target = target.to(device)\n",
        "\n",
        "    output = net(data)\n",
        "\n",
        "    target_pred = torch.argmax(output, 1)\n",
        "    total += target.shape[0]\n",
        "    correct += (target_pred == target).sum()\n",
        "print((correct/total).item())"
      ],
      "metadata": {
        "colab": {
          "base_uri": "https://localhost:8080/"
        },
        "id": "6CHiAHG_ZPJ_",
        "outputId": "36e08c45-b81b-48ec-d53e-640925a4913a"
      },
      "execution_count": 15,
      "outputs": [
        {
          "output_type": "stream",
          "name": "stdout",
          "text": [
            "0.6789999604225159\n"
          ]
        }
      ]
    },
    {
      "cell_type": "markdown",
      "source": [
        "Мы получили хуже на 2 процента примерно. Для нашей задачи косинус, видимо, немного странный, не подходит"
      ],
      "metadata": {
        "id": "9arTRglSxejU"
      }
    },
    {
      "cell_type": "markdown",
      "metadata": {
        "id": "7xFXgl_3_E--",
        "pycharm": {
          "name": "#%% md\n"
        }
      },
      "source": [
        "## 4. Аугментации данных (2 балла)"
      ]
    },
    {
      "cell_type": "markdown",
      "metadata": {
        "id": "5G0Easo9O9Du",
        "pycharm": {
          "name": "#%% md\n"
        }
      },
      "source": [
        "Еще одной стандартной техникой, применяющейся в глубинном обучении, а особенно часто в компьютерном зрении, являются аугментации данных. Суть аугментаций состоит в том, что мы можем некоторым синтетическим образом видоизменять объекты обучающей выборки, тем самым расширяя ее, а также делая итоговую модель более устойчивой к таким изменениям.\n",
        "\n",
        "Простейшая аугментация, которую можно применить к картинкам — разворот картинки по горизонтальной оси. То есть при обучении модели с вероятностью $0.5$ мы будем разворачивать картинку из обучающей выборки."
      ]
    },
    {
      "cell_type": "code",
      "execution_count": 16,
      "metadata": {
        "id": "SzeFpgtfO9Du",
        "pycharm": {
          "name": "#%%\n"
        },
        "colab": {
          "base_uri": "https://localhost:8080/",
          "height": 369
        },
        "outputId": "175566f5-cfd0-42d0-8969-e102ec2e9274"
      },
      "outputs": [
        {
          "output_type": "display_data",
          "data": {
            "text/plain": [
              "<Figure size 640x480 with 1 Axes>"
            ],
            "image/png": "[encoded data removed]"
          },
          "metadata": {}
        },
        {
          "output_type": "display_data",
          "data": {
            "text/plain": [
              "<Figure size 640x480 with 1 Axes>"
            ],
            "image/png": "[encoded data removed]"
          },
          "metadata": {}
        }
      ],
      "source": [
        "dataiter = iter(train_loader)\n",
        "images, labels = next(dataiter)\n",
        "\n",
        "imshow(torchvision.utils.make_grid(images[:4]))\n",
        "\n",
        "imshow(torchvision.utils.make_grid(transforms.functional.hflip(images[:4])))"
      ]
    },
    {
      "cell_type": "markdown",
      "metadata": {
        "id": "BR4a-XJQO9Du",
        "pycharm": {
          "name": "#%% md\n"
        }
      },
      "source": [
        "Наиболее удобным способом работы с аугментациями в PyTorch является их задание в списке <code>transforms</code>, который затем передается в загрузчик данных. Обучим нашу сеть, применяя горизонтальные повороты:"
      ]
    },
    {
      "cell_type": "code",
      "execution_count": 17,
      "metadata": {
        "id": "na0ScBf-_AqX",
        "scrolled": true,
        "pycharm": {
          "name": "#%%\n"
        },
        "colab": {
          "base_uri": "https://localhost:8080/"
        },
        "outputId": "02d06d03-491c-4c4b-b2c7-d40e14cbe9cc"
      },
      "outputs": [
        {
          "output_type": "stream",
          "name": "stdout",
          "text": [
            "Files already downloaded and verified\n",
            "Files already downloaded and verified\n",
            "Epoch 0\n",
            " train loss: 1.4832900261312343, train acc: 0.47167586190609\n",
            " val loss: 1.2721043153012053, val acc: 0.5464760638297872\n",
            "\n",
            "Epoch 1\n",
            " train loss: 1.1832571223623356, train acc: 0.5839726430188585\n",
            " val loss: 1.1172620253360017, val acc: 0.6096852837724889\n",
            "\n",
            "Epoch 2\n",
            " train loss: 1.0583652002937833, train acc: 0.6293949138311843\n",
            " val loss: 1.074311767233179, val acc: 0.6276374114320633\n",
            "\n",
            "Epoch 3\n",
            " train loss: 0.998555228195853, train acc: 0.651238900542913\n",
            " val loss: 0.9805749038432506, val acc: 0.6643838654173181\n",
            "\n",
            "Epoch 4\n",
            " train loss: 0.9566417659004602, train acc: 0.6675045703839122\n",
            " val loss: 1.0000507793527968, val acc: 0.6500443263256803\n",
            "\n",
            "Epoch 5\n",
            " train loss: 0.9198076057041803, train acc: 0.6802485963326268\n",
            " val loss: 0.9385238239105712, val acc: 0.6663342199427016\n",
            "\n",
            "Epoch 6\n",
            " train loss: 0.904297654763872, train acc: 0.6887160486233518\n",
            " val loss: 0.9577547839347352, val acc: 0.6662898936170213\n",
            "\n",
            "Epoch 7\n",
            " train loss: 0.8900220512907945, train acc: 0.6918581875630228\n",
            " val loss: 0.872449513699146, val acc: 0.7003989361702128\n",
            "\n",
            "Epoch 8\n",
            " train loss: 0.8775796767126708, train acc: 0.6961674066958523\n",
            " val loss: 0.9044947875306961, val acc: 0.6919547872340426\n",
            "\n",
            "Epoch 9\n",
            " train loss: 0.855407146474779, train acc: 0.7040145926763196\n",
            " val loss: 0.8855062989478416, val acc: 0.7015514186088075\n",
            "\n",
            "Epoch 10\n",
            " train loss: 0.7671134804240964, train acc: 0.7359501502631569\n",
            " val loss: 0.8073405198594357, val acc: 0.7225177305809996\n",
            "\n",
            "Epoch 11\n",
            " train loss: 0.7542589038773908, train acc: 0.7406715200413734\n",
            " val loss: 0.798770654962418, val acc: 0.7287234042553191\n",
            "\n",
            "Epoch 12\n",
            " train loss: 0.7483673528299907, train acc: 0.7420712001144995\n",
            " val loss: 0.7942345198164595, val acc: 0.7289007093044038\n",
            "\n",
            "Epoch 13\n",
            " train loss: 0.7436740818472624, train acc: 0.7454459389341379\n",
            " val loss: 0.7888009886792365, val acc: 0.7323803191489362\n",
            "\n",
            "Epoch 14\n",
            " train loss: 0.7412772034814197, train acc: 0.7444951358835266\n",
            " val loss: 0.7947535937136793, val acc: 0.7275709220703612\n",
            "\n",
            "Epoch 15\n",
            " train loss: 0.7274858006284703, train acc: 0.7512486942071583\n",
            " val loss: 0.7833128035068512, val acc: 0.7326241135597229\n",
            "\n",
            "Epoch 16\n",
            " train loss: 0.7252689107462519, train acc: 0.7521994972577697\n",
            " val loss: 0.7808683344658385, val acc: 0.7339317377577437\n",
            "\n",
            "Epoch 17\n",
            " train loss: 0.7263648101899915, train acc: 0.7509018347293847\n",
            " val loss: 0.7842640775315305, val acc: 0.7324689718002969\n",
            "\n",
            "Epoch 18\n",
            " train loss: 0.7262463370232521, train acc: 0.7512568556848348\n",
            " val loss: 0.7811833589634997, val acc: 0.7343528369639782\n",
            "\n",
            "Epoch 19\n",
            " train loss: 0.726089220596188, train acc: 0.7510650627573839\n",
            " val loss: 0.7828003728643377, val acc: 0.7320257093044038\n",
            "\n"
          ]
        }
      ],
      "source": [
        "transform = transforms.Compose(\n",
        "        [transforms.RandomHorizontalFlip(),\n",
        "         transforms.ToTensor(),\n",
        "         transforms.Normalize((0.5, 0.5, 0.5), (0.5, 0.5, 0.5))]\n",
        ")\n",
        "\n",
        "train_loader, val_loader, test_loader = get_cifar10_data(batch_size=64, transform_train=transform)\n",
        "\n",
        "net = BasicBlockNet().to(device)\n",
        "optimizer = optim.SGD(net.parameters(), lr=0.1, momentum=0.9)\n",
        "scheduler = optim.lr_scheduler.MultiStepLR(optimizer, milestones=[10, 15], gamma=0.1)\n",
        "tr_loss_log, tr_acc_log, val_loss_log, val_acc_log = train(net, optimizer, 20, train_loader, val_loader, scheduler)"
      ]
    },
    {
      "cell_type": "markdown",
      "metadata": {
        "id": "v3ZIqDQqO9Dv",
        "pycharm": {
          "name": "#%% md\n"
        }
      },
      "source": [
        "Посчитайте точность на тестовой выборке:"
      ]
    },
    {
      "cell_type": "code",
      "execution_count": 18,
      "metadata": {
        "id": "nNJizMkM_Auh",
        "pycharm": {
          "name": "#%%\n"
        },
        "colab": {
          "base_uri": "https://localhost:8080/"
        },
        "outputId": "b01e8268-59ea-4c9d-a33f-3131cf541305"
      },
      "outputs": [
        {
          "output_type": "stream",
          "name": "stdout",
          "text": [
            "0.7292999625205994\n"
          ]
        }
      ],
      "source": [
        "total = 0\n",
        "correct = 0\n",
        "net.eval()\n",
        "\n",
        "for data, target in test_loader:\n",
        "    data = data.to(device)\n",
        "    target = target.to(device)\n",
        "\n",
        "    output = net(data)\n",
        "\n",
        "    target_pred = torch.argmax(output, 1)\n",
        "    total += target.shape[0]\n",
        "    correct += (target_pred == target).sum()\n",
        "print((correct/total).item())"
      ]
    },
    {
      "cell_type": "markdown",
      "source": [
        "Подняли accuracy на 2 процента - это неплохо"
      ],
      "metadata": {
        "id": "k5wOLy1yy-4y"
      }
    },
    {
      "cell_type": "markdown",
      "metadata": {
        "id": "KndehSCHO9Dv",
        "pycharm": {
          "name": "#%% md\n"
        }
      },
      "source": [
        "**Задание 4.1 (2 балла).** Изучите, какие еще способы аугментаций изображений представлены в <code>torchvision.transforms</code>. Выберите несколько из них, объясните, как они устроены, и обучите модель с ними (по отдельности и вместе). Удалось ли добиться улучшения качества на тестовой выборке?"
      ]
    },
    {
      "cell_type": "markdown",
      "source": [
        "Добавил случайное аффинное преобразование к горизонтальным поворотам:"
      ],
      "metadata": {
        "id": "jcauW-oCxyO2"
      }
    },
    {
      "cell_type": "code",
      "execution_count": 19,
      "metadata": {
        "id": "Np4rgvdZ_QRF",
        "pycharm": {
          "name": "#%%\n"
        },
        "colab": {
          "base_uri": "https://localhost:8080/"
        },
        "outputId": "d54b449d-780a-49aa-9291-59080b28de06"
      },
      "outputs": [
        {
          "output_type": "stream",
          "name": "stdout",
          "text": [
            "Files already downloaded and verified\n",
            "Files already downloaded and verified\n",
            "Epoch 0\n",
            " train loss: 1.878033446655413, train acc: 0.3120307195557101\n",
            " val loss: 1.7177331990384042, val acc: 0.3612810284533399\n",
            "\n",
            "Epoch 1\n",
            " train loss: 1.6669102118263732, train acc: 0.39049849834912875\n",
            " val loss: 1.6019989698491197, val acc: 0.4137854610351806\n",
            "\n",
            "Epoch 2\n",
            " train loss: 1.5720246284927704, train acc: 0.42809806739608375\n",
            " val loss: 1.5942560784360196, val acc: 0.42737145398525483\n",
            "\n",
            "Epoch 3\n",
            " train loss: 1.5039709562357426, train acc: 0.45580193917973605\n",
            " val loss: 1.4956235966783888, val acc: 0.4647828014607125\n",
            "\n",
            "Epoch 4\n",
            " train loss: 1.4576464693114788, train acc: 0.4726429877486046\n",
            " val loss: 1.4702769593989595, val acc: 0.46063829787234045\n",
            "\n",
            "Epoch 5\n",
            " train loss: 1.412317524553435, train acc: 0.49525414600668705\n",
            " val loss: 1.3832080176536072, val acc: 0.5065602837724889\n",
            "\n",
            "Epoch 6\n",
            " train loss: 1.3771044396177288, train acc: 0.509536595732464\n",
            " val loss: 1.3385269621585278, val acc: 0.513563829787234\n",
            "\n",
            "Epoch 7\n",
            " train loss: 1.3490068875457513, train acc: 0.5142253199268738\n",
            " val loss: 1.351698379313692, val acc: 0.5096631206096487\n",
            "\n",
            "Epoch 8\n",
            " train loss: 1.3280388312976146, train acc: 0.5259573322327525\n",
            " val loss: 1.3307863527155936, val acc: 0.5262854610351806\n",
            "\n",
            "Epoch 9\n",
            " train loss: 1.3065764547701946, train acc: 0.5343268477720577\n",
            " val loss: 1.309039962798991, val acc: 0.5341533688788719\n",
            "\n",
            "Epoch 10\n",
            " train loss: 1.2124925008421623, train acc: 0.5706613998744344\n",
            " val loss: 1.1955797307034757, val acc: 0.5824246454746165\n",
            "\n",
            "Epoch 11\n",
            " train loss: 1.1903966802565664, train acc: 0.5790390767824497\n",
            " val loss: 1.1758109288012728, val acc: 0.5819592199427016\n",
            "\n",
            "Epoch 12\n",
            " train loss: 1.1823898562565582, train acc: 0.5800918973778022\n",
            " val loss: 1.1914265800029673, val acc: 0.572096631374765\n",
            "\n",
            "Epoch 13\n",
            " train loss: 1.1815240229505508, train acc: 0.5823199595350234\n",
            " val loss: 1.1791815100832188, val acc: 0.5817597518575952\n",
            "\n",
            "Epoch 14\n",
            " train loss: 1.1748332637319616, train acc: 0.5829728715380541\n",
            " val loss: 1.166524232955689, val acc: 0.5917774824385947\n",
            "\n",
            "Epoch 15\n",
            " train loss: 1.1634138138246275, train acc: 0.588216570984075\n",
            " val loss: 1.1600233174384909, val acc: 0.5944813829787234\n",
            "\n",
            "Epoch 16\n",
            " train loss: 1.1594842066494595, train acc: 0.5877636132772052\n",
            " val loss: 1.1640049295222505, val acc: 0.5885416667512122\n",
            "\n",
            "Epoch 17\n",
            " train loss: 1.1579643669904258, train acc: 0.5891061635514282\n",
            " val loss: 1.1543629070545764, val acc: 0.5923315603682335\n",
            "\n",
            "Epoch 18\n",
            " train loss: 1.158750019627036, train acc: 0.5904731980407478\n",
            " val loss: 1.1491520110597002, val acc: 0.5940602837724889\n",
            "\n",
            "Epoch 19\n",
            " train loss: 1.1567064878927507, train acc: 0.5887878689731061\n",
            " val loss: 1.151605075217308, val acc: 0.5952349292471054\n",
            "\n"
          ]
        }
      ],
      "source": [
        "transform = transforms.Compose(\n",
        "        [transforms.RandomHorizontalFlip(),\n",
        "         transforms.RandomAffine(degrees=(30, 50), translate=(0.1, 0.2), scale=(0.5, 0.75)),\n",
        "         transforms.ToTensor(),\n",
        "         transforms.Normalize((0.5, 0.5, 0.5), (0.5, 0.5, 0.5))]\n",
        ")\n",
        "\n",
        "train_loader, val_loader, test_loader = get_cifar10_data(batch_size=64, transform_train=transform)\n",
        "\n",
        "net = BasicBlockNet().to(device)\n",
        "optimizer = optim.SGD(net.parameters(), lr=0.1, momentum=0.9)\n",
        "scheduler = optim.lr_scheduler.MultiStepLR(optimizer, milestones=[10, 15], gamma=0.1)\n",
        "tr_loss_log, tr_acc_log, val_loss_log, val_acc_log = train(net, optimizer, 20, train_loader, val_loader, scheduler)"
      ]
    },
    {
      "cell_type": "code",
      "source": [
        "total = 0\n",
        "correct = 0\n",
        "net.eval()\n",
        "for data, target in test_loader:\n",
        "    data = data.to(device)\n",
        "    target = target.to(device)\n",
        "\n",
        "    output = net(data)\n",
        "\n",
        "    target_pred = torch.argmax(output, 1)\n",
        "    total += target.shape[0]\n",
        "    correct += (target_pred == target).sum()\n",
        "print((correct/total).item())"
      ],
      "metadata": {
        "colab": {
          "base_uri": "https://localhost:8080/"
        },
        "id": "bGWYdl1Qk-FT",
        "outputId": "62906b53-ab70-4d38-ecae-26a2a02ef543"
      },
      "execution_count": 20,
      "outputs": [
        {
          "output_type": "stream",
          "name": "stdout",
          "text": [
            "0.3255999982357025\n"
          ]
        }
      ]
    },
    {
      "cell_type": "markdown",
      "source": [
        "Случайные аффинные преобразования ужасно сказались на accuracy"
      ],
      "metadata": {
        "id": "U29g4uuB0xBy"
      }
    },
    {
      "cell_type": "markdown",
      "source": [
        "The ColorJitter transform randomly changes the brightness, saturation, and other properties of an image. (с документации torch) -  добавим к горизонтальным поворотам случаные изменения яркости и насыщенности:"
      ],
      "metadata": {
        "id": "PIRHT5udySZs"
      }
    },
    {
      "cell_type": "code",
      "source": [
        "transform = transforms.Compose(\n",
        "        [transforms.RandomHorizontalFlip(),\n",
        "         transforms.ColorJitter(brightness=.5, hue=.3),\n",
        "         transforms.ToTensor(),\n",
        "         transforms.Normalize((0.5, 0.5, 0.5), (0.5, 0.5, 0.5))]\n",
        ")\n",
        "\n",
        "train_loader, val_loader, test_loader = get_cifar10_data(batch_size=64, transform_train=transform)\n",
        "\n",
        "net = BasicBlockNet().to(device)\n",
        "optimizer = optim.SGD(net.parameters(), lr=0.1, momentum=0.9)\n",
        "scheduler = optim.lr_scheduler.MultiStepLR(optimizer, milestones=[10, 15], gamma=0.1)\n",
        "tr_loss_log, tr_acc_log, val_loss_log, val_acc_log = train(net, optimizer, 20, train_loader, val_loader, scheduler)"
      ],
      "metadata": {
        "colab": {
          "base_uri": "https://localhost:8080/"
        },
        "id": "XI42gC2elQPc",
        "outputId": "442e9f35-5618-4ed6-ba21-f4cf6c5da96b"
      },
      "execution_count": 21,
      "outputs": [
        {
          "output_type": "stream",
          "name": "stdout",
          "text": [
            "Files already downloaded and verified\n",
            "Files already downloaded and verified\n",
            "Epoch 0\n",
            " train loss: 1.6683768997244686, train acc: 0.40822505885547866\n",
            " val loss: 1.4692046327793853, val acc: 0.4784796099713508\n",
            "\n",
            "Epoch 1\n",
            " train loss: 1.3188072997647622, train acc: 0.5420720162077839\n",
            " val loss: 1.246455139048556, val acc: 0.5611258865670955\n",
            "\n",
            "Epoch 2\n",
            " train loss: 1.2004466023044134, train acc: 0.5855477931730491\n",
            " val loss: 1.2321122587995326, val acc: 0.5785904255319149\n",
            "\n",
            "Epoch 3\n",
            " train loss: 1.1428665840211691, train acc: 0.6075264430133255\n",
            " val loss: 1.1166351840851154, val acc: 0.6170212765957447\n",
            "\n",
            "Epoch 4\n",
            " train loss: 1.1033648001864362, train acc: 0.6213151279707495\n",
            " val loss: 1.0953611589492636, val acc: 0.6204122340425532\n",
            "\n",
            "Epoch 5\n",
            " train loss: 1.0793087429058834, train acc: 0.6293867524624742\n",
            " val loss: 1.0913642084344906, val acc: 0.6252216313747649\n",
            "\n",
            "Epoch 6\n",
            " train loss: 1.0579847547428263, train acc: 0.637678734672135\n",
            " val loss: 1.0596250879003646, val acc: 0.6355939718002969\n",
            "\n",
            "Epoch 7\n",
            " train loss: 1.0430461567106368, train acc: 0.6433835531937356\n",
            " val loss: 1.069957276100808, val acc: 0.6320257093044037\n",
            "\n",
            "Epoch 8\n",
            " train loss: 1.0335703325445953, train acc: 0.644885250811603\n",
            " val loss: 1.043486601748365, val acc: 0.6443262412192974\n",
            "\n",
            "Epoch 9\n",
            " train loss: 1.0094113432729048, train acc: 0.6525610472863945\n",
            " val loss: 1.0161766858811074, val acc: 0.6524822696726373\n",
            "\n",
            "Epoch 10\n",
            " train loss: 0.9248892142960097, train acc: 0.6847414469152308\n",
            " val loss: 0.93460454458886, val acc: 0.6813608156873825\n",
            "\n",
            "Epoch 11\n",
            " train loss: 0.9134707020994078, train acc: 0.6859126077927444\n",
            " val loss: 0.9284479014416959, val acc: 0.6798980497299356\n",
            "\n",
            "Epoch 12\n",
            " train loss: 0.9045065462698231, train acc: 0.6912297597750885\n",
            " val loss: 0.9194612604506472, val acc: 0.6865691489361702\n",
            "\n",
            "Epoch 13\n",
            " train loss: 0.9002057158097053, train acc: 0.6918581875630228\n",
            " val loss: 0.9212868457144879, val acc: 0.6858156029214251\n",
            "\n",
            "Epoch 14\n",
            " train loss: 0.8919319052800836, train acc: 0.6941066532509854\n",
            " val loss: 0.9279062542509525, val acc: 0.6826684398854033\n",
            "\n",
            "Epoch 15\n",
            " train loss: 0.8840089389131536, train acc: 0.6978853813473006\n",
            " val loss: 0.9063019747429706, val acc: 0.6922650710065315\n",
            "\n",
            "Epoch 16\n",
            " train loss: 0.8826367553234972, train acc: 0.6987545703839122\n",
            " val loss: 0.9093112283564628, val acc: 0.688408688027808\n",
            "\n",
            "Epoch 17\n",
            " train loss: 0.8828670745357953, train acc: 0.698366903953622\n",
            " val loss: 0.9060043342570041, val acc: 0.690314716481148\n",
            "\n",
            "Epoch 18\n",
            " train loss: 0.8768929510055556, train acc: 0.7002644293704896\n",
            " val loss: 0.906218105681399, val acc: 0.6944813829787234\n",
            "\n",
            "Epoch 19\n",
            " train loss: 0.8820663690567017, train acc: 0.6995584683618772\n",
            " val loss: 0.9022513042105005, val acc: 0.6915780143534883\n",
            "\n"
          ]
        }
      ]
    },
    {
      "cell_type": "code",
      "source": [
        "total = 0\n",
        "correct = 0\n",
        "net.eval()\n",
        "\n",
        "for data, target in test_loader:\n",
        "    data = data.to(device)\n",
        "    target = target.to(device)\n",
        "\n",
        "    output = net(data)\n",
        "\n",
        "    target_pred = torch.argmax(output, 1)\n",
        "    total += target.shape[0]\n",
        "    correct += (target_pred == target).sum()\n",
        "print((correct/total).item())"
      ],
      "metadata": {
        "colab": {
          "base_uri": "https://localhost:8080/"
        },
        "id": "ypfSJznhlZCV",
        "outputId": "bbfd02a1-da5c-4659-8b5c-b204d3b28a2f"
      },
      "execution_count": 22,
      "outputs": [
        {
          "output_type": "stream",
          "name": "stdout",
          "text": [
            "0.7001999616622925\n"
          ]
        }
      ]
    },
    {
      "cell_type": "markdown",
      "source": [
        "Получили примерно столько же, с чего начинали. Выходит, что для конкретно этой задачи лучше всего только горизонтальные повороты"
      ],
      "metadata": {
        "id": "1QLojl-B3coE"
      }
    },
    {
      "cell_type": "markdown",
      "metadata": {
        "id": "HCENjLw5O9Dv",
        "pycharm": {
          "name": "#%% md\n"
        }
      },
      "source": [
        "## Бонус. Логирование в wandb (2 балла)"
      ]
    },
    {
      "cell_type": "markdown",
      "metadata": {
        "id": "xOyzc1mnO9Dv",
        "pycharm": {
          "name": "#%% md\n"
        }
      },
      "source": [
        "На практике специалиста по глубинному обучению часто встречаются ситуации, когда нейросеть учится на каком-то удаленном сервере. И обычно вам хочется отслеживать прогресс обучения, особенно когда время обучения модели исчисляется днями или неделями. Для таких целей существует несколько инструментов. Вероятно, самый популярный из них — [wandb](https://wandb.ai/site).\n",
        "\n",
        "Ваша задача состоит в том, чтобы разобраться как им пользоваться, и повторить задания 2.1 и 2.2 с его использованием. Обучение вы можете запускать в этом же ноутбуке, но теперь вам необходимо через wandb логировать значения функции потерь и точности на обучающей выборке и на валидационной. Результатом работы должны быть ваш код и публичная ссылка на страничку с графиками, идентичными графикам в задании 2.2."
      ]
    },
    {
      "cell_type": "code",
      "execution_count": null,
      "metadata": {
        "id": "m5gSTLAr_QS4",
        "pycharm": {
          "name": "#%%\n"
        }
      },
      "outputs": [],
      "source": [
        "# <your code here>"
      ]
    }
  ],
  "metadata": {
    "accelerator": "GPU",
    "colab": {
      "provenance": []
    },
    "kernelspec": {
      "display_name": "Python 3 (ipykernel)",
      "language": "python",
      "name": "python3"
    },
    "language_info": {
      "codemirror_mode": {
        "name": "ipython",
        "version": 3
      },
      "file_extension": ".py",
      "mimetype": "text/x-python",
      "name": "python",
      "nbconvert_exporter": "python",
      "pygments_lexer": "ipython3",
      "version": "3.10.4"
    }
  },
  "nbformat": 4,
  "nbformat_minor": 0
}